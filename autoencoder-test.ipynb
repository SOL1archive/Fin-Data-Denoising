{
 "cells": [
  {
   "cell_type": "code",
   "execution_count": 1,
   "metadata": {},
   "outputs": [],
   "source": [
    "import datetime\n",
    "import warnings\n",
    "\n",
    "import numpy as np\n",
    "import pandas as pd\n",
    "\n",
    "from sklearn.preprocessing import MinMaxScaler\n",
    "from sklearn.metrics import mean_squared_error, r2_score\n",
    "\n",
    "import torch\n",
    "import torch.nn as nn\n",
    "import torch.optim as optim\n",
    "from torch.utils.data import Dataset, DataLoader\n",
    "\n",
    "import skorch\n",
    "\n",
    "from dataset import StockDataset\n",
    "from denoising.autoencoder import *\n",
    "\n",
    "from yahoo_fin_api import load_df\n",
    "\n",
    "%matplotlib inline\n",
    "warnings.filterwarnings(action='ignore')"
   ]
  },
  {
   "cell_type": "code",
   "execution_count": 7,
   "metadata": {},
   "outputs": [
    {
     "data": {
      "text/plain": [
       "(<All keys matched successfully>, <All keys matched successfully>)"
      ]
     },
     "execution_count": 7,
     "metadata": {},
     "output_type": "execute_result"
    }
   ],
   "source": [
    "NOW_STR = '28022023-024108'\n",
    "CONV1_KERNEL = 51\n",
    "CONV2_KERNEL = 51\n",
    "CONV3_KERNEL = 51\n",
    "\n",
    "cnn_encoder = CnnEncoder(CONV1_KERNEL, CONV2_KERNEL, CONV3_KERNEL)\n",
    "cnn_decoder = CnnDecoder(CONV1_KERNEL, CONV2_KERNEL, CONV3_KERNEL)\n",
    "\n",
    "cnn_encoder.load_state_dict(torch.load(f'./model-dir/{NOW_STR}-cnn-encoder.pt')), cnn_decoder.load_state_dict(torch.load(f'./model-dir/{NOW_STR}-cnn-decoder.pt'))"
   ]
  },
  {
   "cell_type": "code",
   "execution_count": 8,
   "metadata": {},
   "outputs": [
    {
     "data": {
      "text/plain": [
       "(CnnEncoder(\n",
       "   (encoder_cnn): Sequential(\n",
       "     (0): Conv1d(1, 8, kernel_size=(51,), stride=(1,), padding=(51,))\n",
       "     (1): ReLU(inplace=True)\n",
       "     (2): Conv1d(8, 16, kernel_size=(51,), stride=(1,), padding=(51,))\n",
       "     (3): ReLU(inplace=True)\n",
       "     (4): Conv1d(16, 32, kernel_size=(51,), stride=(1,), padding=(51,))\n",
       "     (5): ReLU(inplace=True)\n",
       "     (6): Conv1d(32, 64, kernel_size=(51,), stride=(1,), padding=(51,))\n",
       "     (7): ReLU(inplace=True)\n",
       "   )\n",
       " ),\n",
       " CnnDecoder(\n",
       "   (decoder_cnn): Sequential(\n",
       "     (0): ConvTranspose1d(64, 32, kernel_size=(51,), stride=(1,), padding=(51,))\n",
       "     (1): ReLU(inplace=True)\n",
       "     (2): ConvTranspose1d(32, 16, kernel_size=(51,), stride=(1,), padding=(51,))\n",
       "     (3): ReLU(inplace=True)\n",
       "     (4): ConvTranspose1d(16, 8, kernel_size=(51,), stride=(1,), padding=(51,))\n",
       "     (5): ReLU(inplace=True)\n",
       "     (6): ConvTranspose1d(8, 1, kernel_size=(51,), stride=(1,), padding=(51,))\n",
       "   )\n",
       " ))"
      ]
     },
     "execution_count": 8,
     "metadata": {},
     "output_type": "execute_result"
    }
   ],
   "source": [
    "cnn_encoder.eval(), cnn_decoder.eval()"
   ]
  },
  {
   "cell_type": "code",
   "execution_count": null,
   "metadata": {},
   "outputs": [],
   "source": [
    "data = torch.tensor(load_df('data/krw-usd.csv')['Mean'])\n",
    "# Although the distribution of currency exchange would be very different with stock data, I used the currency exchange data to check whether the autoencoder works properly to other similar data."
   ]
  }
 ],
 "metadata": {
  "kernelspec": {
   "display_name": "Python 3",
   "language": "python",
   "name": "python3"
  },
  "language_info": {
   "codemirror_mode": {
    "name": "ipython",
    "version": 3
   },
   "file_extension": ".py",
   "mimetype": "text/x-python",
   "name": "python",
   "nbconvert_exporter": "python",
   "pygments_lexer": "ipython3",
   "version": "3.10.6"
  },
  "orig_nbformat": 4,
  "vscode": {
   "interpreter": {
    "hash": "916dbcbb3f70747c44a77c7bcd40155683ae19c65e1c03b4aa3499c5328201f1"
   }
  }
 },
 "nbformat": 4,
 "nbformat_minor": 2
}
