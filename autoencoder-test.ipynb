{
 "cells": [
  {
   "cell_type": "code",
   "execution_count": 1,
   "metadata": {},
   "outputs": [
    {
     "name": "stderr",
     "output_type": "stream",
     "text": [
      "2023-02-24 23:18:29.184180: I tensorflow/core/platform/cpu_feature_guard.cc:193] This TensorFlow binary is optimized with oneAPI Deep Neural Network Library (oneDNN) to use the following CPU instructions in performance-critical operations:  AVX2 FMA\n",
      "To enable them in other operations, rebuild TensorFlow with the appropriate compiler flags.\n",
      "2023-02-24 23:18:29.845959: W tensorflow/compiler/xla/stream_executor/platform/default/dso_loader.cc:64] Could not load dynamic library 'libnvinfer.so.7'; dlerror: libnvinfer.so.7: cannot open shared object file: No such file or directory\n",
      "2023-02-24 23:18:29.846041: W tensorflow/compiler/xla/stream_executor/platform/default/dso_loader.cc:64] Could not load dynamic library 'libnvinfer_plugin.so.7'; dlerror: libnvinfer_plugin.so.7: cannot open shared object file: No such file or directory\n",
      "2023-02-24 23:18:29.846047: W tensorflow/compiler/tf2tensorrt/utils/py_utils.cc:38] TF-TRT Warning: Cannot dlopen some TensorRT libraries. If you would like to use Nvidia GPU with TensorRT, please make sure the missing libraries mentioned above are installed properly.\n"
     ]
    }
   ],
   "source": [
    "import numpy as np\n",
    "import pandas as pd\n",
    "\n",
    "from sklearn.preprocessing import MinMaxScaler\n",
    "from sklearn.metrics import mean_squared_error, r2_score\n",
    "\n",
    "import torch\n",
    "import torch.nn as nn\n",
    "import torch.optim as optim\n",
    "from torch.utils.data import Dataset, DataLoader\n",
    "\n",
    "import skorch\n",
    "\n",
    "from denoising.autoencoder import Encoder\n",
    "\n",
    "from yahoo_fin_api import load_df"
   ]
  },
  {
   "cell_type": "code",
   "execution_count": 57,
   "metadata": {},
   "outputs": [
    {
     "data": {
      "text/html": [
       "<div>\n",
       "<style scoped>\n",
       "    .dataframe tbody tr th:only-of-type {\n",
       "        vertical-align: middle;\n",
       "    }\n",
       "\n",
       "    .dataframe tbody tr th {\n",
       "        vertical-align: top;\n",
       "    }\n",
       "\n",
       "    .dataframe thead th {\n",
       "        text-align: right;\n",
       "    }\n",
       "</style>\n",
       "<table border=\"1\" class=\"dataframe\">\n",
       "  <thead>\n",
       "    <tr style=\"text-align: right;\">\n",
       "      <th></th>\n",
       "      <th>Open</th>\n",
       "      <th>High</th>\n",
       "      <th>Low</th>\n",
       "      <th>Close</th>\n",
       "    </tr>\n",
       "    <tr>\n",
       "      <th>Date</th>\n",
       "      <th></th>\n",
       "      <th></th>\n",
       "      <th></th>\n",
       "      <th></th>\n",
       "    </tr>\n",
       "  </thead>\n",
       "  <tbody>\n",
       "    <tr>\n",
       "      <th>1990-02-26</th>\n",
       "      <td>324.160004</td>\n",
       "      <td>328.670013</td>\n",
       "      <td>323.980011</td>\n",
       "      <td>328.670013</td>\n",
       "    </tr>\n",
       "    <tr>\n",
       "      <th>1990-02-27</th>\n",
       "      <td>328.679993</td>\n",
       "      <td>331.940002</td>\n",
       "      <td>328.470001</td>\n",
       "      <td>330.260010</td>\n",
       "    </tr>\n",
       "    <tr>\n",
       "      <th>1990-02-28</th>\n",
       "      <td>330.260010</td>\n",
       "      <td>333.480011</td>\n",
       "      <td>330.160004</td>\n",
       "      <td>331.890015</td>\n",
       "    </tr>\n",
       "    <tr>\n",
       "      <th>1990-03-01</th>\n",
       "      <td>331.890015</td>\n",
       "      <td>334.399994</td>\n",
       "      <td>331.079987</td>\n",
       "      <td>332.739990</td>\n",
       "    </tr>\n",
       "    <tr>\n",
       "      <th>1990-03-02</th>\n",
       "      <td>332.739990</td>\n",
       "      <td>335.540009</td>\n",
       "      <td>332.720001</td>\n",
       "      <td>335.540009</td>\n",
       "    </tr>\n",
       "  </tbody>\n",
       "</table>\n",
       "</div>"
      ],
      "text/plain": [
       "                  Open        High         Low       Close\n",
       "Date                                                      \n",
       "1990-02-26  324.160004  328.670013  323.980011  328.670013\n",
       "1990-02-27  328.679993  331.940002  328.470001  330.260010\n",
       "1990-02-28  330.260010  333.480011  330.160004  331.890015\n",
       "1990-03-01  331.890015  334.399994  331.079987  332.739990\n",
       "1990-03-02  332.739990  335.540009  332.720001  335.540009"
      ]
     },
     "execution_count": 57,
     "metadata": {},
     "output_type": "execute_result"
    }
   ],
   "source": [
    "df = load_df('data/snp.csv')[['Open', 'High', 'Low', 'Close']]\n",
    "df.head(), len(df)"
   ]
  },
  {
   "cell_type": "code",
   "execution_count": 60,
   "metadata": {},
   "outputs": [],
   "source": [
    "device = torch.device(\"cuda\" if torch.cuda.is_available() else \"cpu\")\n",
    "criterion = nn.MSELoss()"
   ]
  },
  {
   "cell_type": "code",
   "execution_count": 76,
   "metadata": {},
   "outputs": [
    {
     "name": "stdout",
     "output_type": "stream",
     "text": [
      "Epoch [1/200], Loss: 896657.7500\n",
      "Epoch [101/200], Loss: 249282.1250\n"
     ]
    }
   ],
   "source": [
    "# Random seed to make results deterministic and reproducible\n",
    "\n",
    "torch.manual_seed(0)\n",
    "\n",
    "# Do not use in DNN-AE\n",
    "\n",
    "# make dataset to input\n",
    "class StockDataset(Dataset):\n",
    "    def __init__(self, data):\n",
    "        self.data = data.values.astype('float32')  # convert data to numpy array of type float32\n",
    "        \n",
    "    def __len__(self):\n",
    "        return len(self.data)\n",
    "    \n",
    "    def __getitem__(self, index):\n",
    "        x = self.data[index, :4]  # select the first three columns as input\n",
    "        y = self.data[index, :4]   # select the fourth column as output\n",
    "        return x, y\n",
    "\n",
    "dataset = StockDataset(df)\n",
    "\n",
    "batch_size = 512\n",
    "dataloader = DataLoader(dataset, batch_size=batch_size, shuffle=False)\n",
    "\n",
    "class Net(nn.Module):\n",
    "  def __init__(self):\n",
    "    super(Net, self).__init__()\n",
    "    self.encoder = nn.Sequential(\n",
    "      nn.Linear(4, 8),\n",
    "      nn.ReLU(),\n",
    "      nn.Linear(8, 8),\n",
    "      nn.ReLU(),\n",
    "      nn.Linear(8, 6),\n",
    "      nn.ReLU(),\n",
    "      nn.Linear(6, 2),\n",
    "      nn.ReLU()\n",
    "    )\n",
    "\n",
    "    self.decoder = nn.Sequential(\n",
    "      nn.Linear(2, 6),\n",
    "      nn.ReLU(),\n",
    "      nn.Linear(6, 8),\n",
    "      nn.ReLU(),\n",
    "      nn.Linear(8, 8),\n",
    "      nn.ReLU(),\n",
    "      nn.Linear(8, 4),\n",
    "      nn.ReLU()\n",
    "    )\n",
    "    \n",
    "  def forward(self, x):\n",
    "    encoded = self.encoder(x)\n",
    "    decoded = self.decoder(encoded)\n",
    "    \n",
    "    return decoded\n",
    "\n",
    "\n",
    "model = Net().to('cuda')\n",
    "\n",
    "criterion = nn.MSELoss()\n",
    "optimizer = optim.Adam(model.parameters(), lr = 1e-4, weight_decay=1e-5)\n",
    "\n",
    "num_epoch = 200\n",
    "for epoch in range(num_epoch):\n",
    "  for X, y in dataloader: \n",
    "    total_loss = 0\n",
    "    d = []\n",
    "    X = X.to('cuda')\n",
    "    y = y.to('cuda')\n",
    "\n",
    "    optimizer.zero_grad()\n",
    "    output = model(X)\n",
    "\n",
    "    loss = criterion(output, y)\n",
    "    loss.backward()\n",
    "    optimizer.step()\n",
    "\n",
    "    total_loss += loss.data.item()\n",
    "  if epoch % 100 == 0:\n",
    "    print(\"Epoch [{}/{}], Loss: {:.4f}\".format(epoch+1, num_epoch, loss/len(dataloader)))"
   ]
  },
  {
   "cell_type": "code",
   "execution_count": 77,
   "metadata": {},
   "outputs": [
    {
     "data": {
      "text/plain": [
       "torch.Size([8313, 4])"
      ]
     },
     "execution_count": 77,
     "metadata": {},
     "output_type": "execute_result"
    }
   ],
   "source": [
    "tensor = torch.tensor(df.values, dtype=torch.float32).to('cuda')\n",
    "tensor.shape"
   ]
  },
  {
   "cell_type": "code",
   "execution_count": 80,
   "metadata": {},
   "outputs": [
    {
     "data": {
      "text/plain": [
       "tensor([[   0.0000,  329.9888,  327.4567,  327.3591],\n",
       "        [   0.0000,  332.9228,  330.3702,  330.2722],\n",
       "        [   0.0000,  334.5215,  331.9577,  331.8596],\n",
       "        ...,\n",
       "        [   0.0000, 4036.7222, 4008.2493, 4007.6494],\n",
       "        [   0.0000, 4011.7446, 3983.4465, 3982.8496],\n",
       "        [   0.0000, 4026.1697, 3997.7708, 3997.1721]])"
      ]
     },
     "execution_count": 80,
     "metadata": {},
     "output_type": "execute_result"
    }
   ],
   "source": [
    "with torch.no_grad():\n",
    "    pred = model(tensor).to('cpu')\n",
    "pred"
   ]
  },
  {
   "cell_type": "code",
   "execution_count": 83,
   "metadata": {},
   "outputs": [],
   "source": [
    "df['Mean'] = df.mean(axis=1)\n",
    "df['PredMean'] = pred.mean(axis=1)"
   ]
  },
  {
   "cell_type": "code",
   "execution_count": 87,
   "metadata": {},
   "outputs": [
    {
     "data": {
      "text/plain": [
       "<AxesSubplot: xlabel='Date'>"
      ]
     },
     "execution_count": 87,
     "metadata": {},
     "output_type": "execute_result"
    },
    {
     "data": {
      "image/png": "[encoded data removed]",
      "text/plain": [
       "<Figure size 1000x600 with 1 Axes>"
      ]
     },
     "metadata": {},
     "output_type": "display_data"
    }
   ],
   "source": [
    "df[['Mean', 'PredMean']].plot(color=['b', 'r'], figsize=(10, 6))"
   ]
  },
  {
   "cell_type": "code",
   "execution_count": 6,
   "metadata": {},
   "outputs": [
    {
     "ename": "ValueError",
     "evalue": "The `kernel_size` argument must be a tuple of 1 integers. Received: (3, 4)",
     "output_type": "error",
     "traceback": [
      "\u001b[0;31m---------------------------------------------------------------------------\u001b[0m",
      "\u001b[0;31mValueError\u001b[0m                                Traceback (most recent call last)",
      "Cell \u001b[0;32mIn[6], line 4\u001b[0m\n\u001b[1;32m      1\u001b[0m model \u001b[39m=\u001b[39m keras\u001b[39m.\u001b[39mSequential(\n\u001b[1;32m      2\u001b[0m     [\n\u001b[1;32m      3\u001b[0m         layers\u001b[39m.\u001b[39mInput(shape\u001b[39m=\u001b[39m(\u001b[39mNone\u001b[39;00m, \u001b[39m4\u001b[39m)),\n\u001b[0;32m----> 4\u001b[0m         layers\u001b[39m.\u001b[39;49mConv1D(\n\u001b[1;32m      5\u001b[0m             filters\u001b[39m=\u001b[39;49m\u001b[39m32\u001b[39;49m, kernel_size\u001b[39m=\u001b[39;49m(\u001b[39m3\u001b[39;49m, \u001b[39m4\u001b[39;49m), padding\u001b[39m=\u001b[39;49m\u001b[39m\"\u001b[39;49m\u001b[39msame\u001b[39;49m\u001b[39m\"\u001b[39;49m, strides\u001b[39m=\u001b[39;49m\u001b[39m2\u001b[39;49m, activation\u001b[39m=\u001b[39;49m\u001b[39m\"\u001b[39;49m\u001b[39mrelu\u001b[39;49m\u001b[39m\"\u001b[39;49m\n\u001b[1;32m      6\u001b[0m         ),\n\u001b[1;32m      7\u001b[0m         layers\u001b[39m.\u001b[39mDropout(rate\u001b[39m=\u001b[39m\u001b[39m0.2\u001b[39m),\n\u001b[1;32m      8\u001b[0m         layers\u001b[39m.\u001b[39mConv1D(\n\u001b[1;32m      9\u001b[0m             filters\u001b[39m=\u001b[39m\u001b[39m16\u001b[39m, kernel_size\u001b[39m=\u001b[39m(\u001b[39m3\u001b[39m, \u001b[39m4\u001b[39m), padding\u001b[39m=\u001b[39m\u001b[39m\"\u001b[39m\u001b[39msame\u001b[39m\u001b[39m\"\u001b[39m, strides\u001b[39m=\u001b[39m\u001b[39m2\u001b[39m, activation\u001b[39m=\u001b[39m\u001b[39m\"\u001b[39m\u001b[39mrelu\u001b[39m\u001b[39m\"\u001b[39m\n\u001b[1;32m     10\u001b[0m         ),\n\u001b[1;32m     11\u001b[0m         layers\u001b[39m.\u001b[39mConv1DTranspose(\n\u001b[1;32m     12\u001b[0m             filters\u001b[39m=\u001b[39m\u001b[39m16\u001b[39m, kernel_size\u001b[39m=\u001b[39m(\u001b[39m3\u001b[39m, \u001b[39m4\u001b[39m), padding\u001b[39m=\u001b[39m\u001b[39m\"\u001b[39m\u001b[39msame\u001b[39m\u001b[39m\"\u001b[39m, strides\u001b[39m=\u001b[39m\u001b[39m2\u001b[39m, activation\u001b[39m=\u001b[39m\u001b[39m\"\u001b[39m\u001b[39mrelu\u001b[39m\u001b[39m\"\u001b[39m\n\u001b[1;32m     13\u001b[0m         ),\n\u001b[1;32m     14\u001b[0m         layers\u001b[39m.\u001b[39mDropout(rate\u001b[39m=\u001b[39m\u001b[39m0.2\u001b[39m),\n\u001b[1;32m     15\u001b[0m         layers\u001b[39m.\u001b[39mConv1DTranspose(\n\u001b[1;32m     16\u001b[0m             filters\u001b[39m=\u001b[39m\u001b[39m32\u001b[39m, kernel_size\u001b[39m=\u001b[39m(\u001b[39m3\u001b[39m, \u001b[39m4\u001b[39m), padding\u001b[39m=\u001b[39m\u001b[39m\"\u001b[39m\u001b[39msame\u001b[39m\u001b[39m\"\u001b[39m, strides\u001b[39m=\u001b[39m\u001b[39m2\u001b[39m, activation\u001b[39m=\u001b[39m\u001b[39m\"\u001b[39m\u001b[39mrelu\u001b[39m\u001b[39m\"\u001b[39m\n\u001b[1;32m     17\u001b[0m         ),\n\u001b[1;32m     18\u001b[0m         layers\u001b[39m.\u001b[39mConv1DTranspose(filters\u001b[39m=\u001b[39m\u001b[39m1\u001b[39m, kernel_size\u001b[39m=\u001b[39m(\u001b[39m3\u001b[39m, \u001b[39m4\u001b[39m), padding\u001b[39m=\u001b[39m\u001b[39m\"\u001b[39m\u001b[39msame\u001b[39m\u001b[39m\"\u001b[39m),\n\u001b[1;32m     19\u001b[0m     ]\n\u001b[1;32m     20\u001b[0m )\n\u001b[1;32m     21\u001b[0m model\u001b[39m.\u001b[39mcompile(optimizer\u001b[39m=\u001b[39mkeras\u001b[39m.\u001b[39moptimizers\u001b[39m.\u001b[39mAdam(learning_rate\u001b[39m=\u001b[39m\u001b[39m0.001\u001b[39m), loss\u001b[39m=\u001b[39m\u001b[39m\"\u001b[39m\u001b[39mmse\u001b[39m\u001b[39m\"\u001b[39m)\n\u001b[1;32m     22\u001b[0m model\u001b[39m.\u001b[39msummary()\n",
      "File \u001b[0;32m~/.local/lib/python3.10/site-packages/keras/dtensor/utils.py:96\u001b[0m, in \u001b[0;36mallow_initializer_layout.<locals>._wrap_function\u001b[0;34m(layer_instance, *args, **kwargs)\u001b[0m\n\u001b[1;32m     93\u001b[0m         \u001b[39mif\u001b[39;00m layout:\n\u001b[1;32m     94\u001b[0m             layout_args[variable_name \u001b[39m+\u001b[39m \u001b[39m\"\u001b[39m\u001b[39m_layout\u001b[39m\u001b[39m\"\u001b[39m] \u001b[39m=\u001b[39m layout\n\u001b[0;32m---> 96\u001b[0m init_method(layer_instance, \u001b[39m*\u001b[39;49margs, \u001b[39m*\u001b[39;49m\u001b[39m*\u001b[39;49mkwargs)\n\u001b[1;32m     98\u001b[0m \u001b[39m# Inject the layout parameter after the invocation of __init__()\u001b[39;00m\n\u001b[1;32m     99\u001b[0m \u001b[39mfor\u001b[39;00m layout_param_name, layout \u001b[39min\u001b[39;00m layout_args\u001b[39m.\u001b[39mitems():\n",
      "File \u001b[0;32m~/.local/lib/python3.10/site-packages/keras/layers/convolutional/conv1d.py:156\u001b[0m, in \u001b[0;36mConv1D.__init__\u001b[0;34m(self, filters, kernel_size, strides, padding, data_format, dilation_rate, groups, activation, use_bias, kernel_initializer, bias_initializer, kernel_regularizer, bias_regularizer, activity_regularizer, kernel_constraint, bias_constraint, **kwargs)\u001b[0m\n\u001b[1;32m    135\u001b[0m \u001b[39m@utils\u001b[39m\u001b[39m.\u001b[39mallow_initializer_layout\n\u001b[1;32m    136\u001b[0m \u001b[39mdef\u001b[39;00m \u001b[39m__init__\u001b[39m(\n\u001b[1;32m    137\u001b[0m     \u001b[39mself\u001b[39m,\n\u001b[0;32m   (...)\u001b[0m\n\u001b[1;32m    154\u001b[0m     \u001b[39m*\u001b[39m\u001b[39m*\u001b[39mkwargs\n\u001b[1;32m    155\u001b[0m ):\n\u001b[0;32m--> 156\u001b[0m     \u001b[39msuper\u001b[39;49m()\u001b[39m.\u001b[39;49m\u001b[39m__init__\u001b[39;49m(\n\u001b[1;32m    157\u001b[0m         rank\u001b[39m=\u001b[39;49m\u001b[39m1\u001b[39;49m,\n\u001b[1;32m    158\u001b[0m         filters\u001b[39m=\u001b[39;49mfilters,\n\u001b[1;32m    159\u001b[0m         kernel_size\u001b[39m=\u001b[39;49mkernel_size,\n\u001b[1;32m    160\u001b[0m         strides\u001b[39m=\u001b[39;49mstrides,\n\u001b[1;32m    161\u001b[0m         padding\u001b[39m=\u001b[39;49mpadding,\n\u001b[1;32m    162\u001b[0m         data_format\u001b[39m=\u001b[39;49mdata_format,\n\u001b[1;32m    163\u001b[0m         dilation_rate\u001b[39m=\u001b[39;49mdilation_rate,\n\u001b[1;32m    164\u001b[0m         groups\u001b[39m=\u001b[39;49mgroups,\n\u001b[1;32m    165\u001b[0m         activation\u001b[39m=\u001b[39;49mactivations\u001b[39m.\u001b[39;49mget(activation),\n\u001b[1;32m    166\u001b[0m         use_bias\u001b[39m=\u001b[39;49muse_bias,\n\u001b[1;32m    167\u001b[0m         kernel_initializer\u001b[39m=\u001b[39;49minitializers\u001b[39m.\u001b[39;49mget(kernel_initializer),\n\u001b[1;32m    168\u001b[0m         bias_initializer\u001b[39m=\u001b[39;49minitializers\u001b[39m.\u001b[39;49mget(bias_initializer),\n\u001b[1;32m    169\u001b[0m         kernel_regularizer\u001b[39m=\u001b[39;49mregularizers\u001b[39m.\u001b[39;49mget(kernel_regularizer),\n\u001b[1;32m    170\u001b[0m         bias_regularizer\u001b[39m=\u001b[39;49mregularizers\u001b[39m.\u001b[39;49mget(bias_regularizer),\n\u001b[1;32m    171\u001b[0m         activity_regularizer\u001b[39m=\u001b[39;49mregularizers\u001b[39m.\u001b[39;49mget(activity_regularizer),\n\u001b[1;32m    172\u001b[0m         kernel_constraint\u001b[39m=\u001b[39;49mconstraints\u001b[39m.\u001b[39;49mget(kernel_constraint),\n\u001b[1;32m    173\u001b[0m         bias_constraint\u001b[39m=\u001b[39;49mconstraints\u001b[39m.\u001b[39;49mget(bias_constraint),\n\u001b[1;32m    174\u001b[0m         \u001b[39m*\u001b[39;49m\u001b[39m*\u001b[39;49mkwargs\n\u001b[1;32m    175\u001b[0m     )\n",
      "File \u001b[0;32m~/.local/lib/python3.10/site-packages/keras/layers/convolutional/base_conv.py:136\u001b[0m, in \u001b[0;36mConv.__init__\u001b[0;34m(self, rank, filters, kernel_size, strides, padding, data_format, dilation_rate, groups, activation, use_bias, kernel_initializer, bias_initializer, kernel_regularizer, bias_regularizer, activity_regularizer, kernel_constraint, bias_constraint, trainable, name, conv_op, **kwargs)\u001b[0m\n\u001b[1;32m    134\u001b[0m \u001b[39mself\u001b[39m\u001b[39m.\u001b[39mfilters \u001b[39m=\u001b[39m filters\n\u001b[1;32m    135\u001b[0m \u001b[39mself\u001b[39m\u001b[39m.\u001b[39mgroups \u001b[39m=\u001b[39m groups \u001b[39mor\u001b[39;00m \u001b[39m1\u001b[39m\n\u001b[0;32m--> 136\u001b[0m \u001b[39mself\u001b[39m\u001b[39m.\u001b[39mkernel_size \u001b[39m=\u001b[39m conv_utils\u001b[39m.\u001b[39;49mnormalize_tuple(\n\u001b[1;32m    137\u001b[0m     kernel_size, rank, \u001b[39m\"\u001b[39;49m\u001b[39mkernel_size\u001b[39;49m\u001b[39m\"\u001b[39;49m\n\u001b[1;32m    138\u001b[0m )\n\u001b[1;32m    139\u001b[0m \u001b[39mself\u001b[39m\u001b[39m.\u001b[39mstrides \u001b[39m=\u001b[39m conv_utils\u001b[39m.\u001b[39mnormalize_tuple(\n\u001b[1;32m    140\u001b[0m     strides, rank, \u001b[39m\"\u001b[39m\u001b[39mstrides\u001b[39m\u001b[39m\"\u001b[39m, allow_zero\u001b[39m=\u001b[39m\u001b[39mTrue\u001b[39;00m\n\u001b[1;32m    141\u001b[0m )\n\u001b[1;32m    142\u001b[0m \u001b[39mself\u001b[39m\u001b[39m.\u001b[39mpadding \u001b[39m=\u001b[39m conv_utils\u001b[39m.\u001b[39mnormalize_padding(padding)\n",
      "File \u001b[0;32m~/.local/lib/python3.10/site-packages/keras/utils/conv_utils.py:90\u001b[0m, in \u001b[0;36mnormalize_tuple\u001b[0;34m(value, n, name, allow_zero)\u001b[0m\n\u001b[1;32m     88\u001b[0m     \u001b[39mraise\u001b[39;00m \u001b[39mValueError\u001b[39;00m(error_msg)\n\u001b[1;32m     89\u001b[0m \u001b[39mif\u001b[39;00m \u001b[39mlen\u001b[39m(value_tuple) \u001b[39m!=\u001b[39m n:\n\u001b[0;32m---> 90\u001b[0m     \u001b[39mraise\u001b[39;00m \u001b[39mValueError\u001b[39;00m(error_msg)\n\u001b[1;32m     91\u001b[0m \u001b[39mfor\u001b[39;00m single_value \u001b[39min\u001b[39;00m value_tuple:\n\u001b[1;32m     92\u001b[0m     \u001b[39mtry\u001b[39;00m:\n",
      "\u001b[0;31mValueError\u001b[0m: The `kernel_size` argument must be a tuple of 1 integers. Received: (3, 4)"
     ]
    }
   ],
   "source": [
    "'''x_train_deep = x_train.reshape((len(x_train), np.prod(x_train.shape[1:])))\n",
    "\n",
    "input_window = Input(shape=(4,))\n",
    "\n",
    "x = Dense(6, activation='relu')(input_window)\n",
    "x = BatchNormalization()(x)\n",
    "encoded = Dense(encoding_dim, activation='relu')(x)\n",
    "# \"decoded\" is the lossy reconstruction of the input\n",
    "\n",
    "x = Dense(6, activation='relu')(encoded)\n",
    "x = BatchNormalization()(x)\n",
    "decoded = Dense(window_length, activation='sigmoid')(x)\n",
    "\n",
    "# this model maps an input to its reconstruction\n",
    "autoencoder = Model(input_window, decoded)\n",
    "\n",
    "# this model maps an input to its encoded representation\n",
    "encoder = Model(input_window, encoded)\n",
    "\n",
    "autoencoder.summary()\n",
    "\n",
    "autoencoder.compile(optimizer='adam', loss='binary_crossentropy')\n",
    "history = autoencoder.fit(x_train_deep, x_train_deep,\n",
    "                epochs=epochs,\n",
    "                batch_size=1024,\n",
    "                shuffle=True,\n",
    "                validation_data=(x_test_deep, x_test_deep))\n",
    "\n",
    "decoded_stocks = autoencoder.predict(x_test_deep)'''"
   ]
  },
  {
   "cell_type": "code",
   "execution_count": 6,
   "metadata": {},
   "outputs": [
    {
     "name": "stdout",
     "output_type": "stream",
     "text": [
      "Epoch 1/50\n"
     ]
    },
    {
     "name": "stderr",
     "output_type": "stream",
     "text": [
      "2023-02-24 20:49:36.822605: I tensorflow/compiler/xla/stream_executor/cuda/cuda_dnn.cc:428] Loaded cuDNN version 8101\n",
      "2023-02-24 20:49:38.139891: I tensorflow/tsl/platform/default/subprocess.cc:304] Start cannot spawn child process: No such file or directory\n"
     ]
    },
    {
     "ename": "",
     "evalue": "",
     "output_type": "error",
     "traceback": [
      "\u001b[1;31mCanceled future for execute_request message before replies were done"
     ]
    },
    {
     "ename": "",
     "evalue": "",
     "output_type": "error",
     "traceback": [
      "\u001b[1;31m현재 셀 또는 이전 셀에서 코드를 실행하는 동안 Kernel이 충돌했습니다. 셀의 코드를 검토하여 오류의 가능한 원인을 식별하세요. 자세한 내용을 보려면 <a href='https://aka.ms/vscodeJupyterKernelCrash'> 여기 </a> 를 클릭하세요. 자세한 내용은 Jupyter <a href='command:jupyter.viewOutput'>로그</a>를 참조하세요."
     ]
    }
   ],
   "source": [
    "history = model.fit(\n",
    "    x_train,\n",
    "    x_train,\n",
    "    epochs=50,\n",
    "    batch_size=128,\n",
    "    validation_split=0.1,\n",
    ")"
   ]
  }
 ],
 "metadata": {
  "kernelspec": {
   "display_name": "Python 3",
   "language": "python",
   "name": "python3"
  },
  "language_info": {
   "codemirror_mode": {
    "name": "ipython",
    "version": 3
   },
   "file_extension": ".py",
   "mimetype": "text/x-python",
   "name": "python",
   "nbconvert_exporter": "python",
   "pygments_lexer": "ipython3",
   "version": "3.10.6"
  },
  "orig_nbformat": 4,
  "vscode": {
   "interpreter": {
    "hash": "916dbcbb3f70747c44a77c7bcd40155683ae19c65e1c03b4aa3499c5328201f1"
   }
  }
 },
 "nbformat": 4,
 "nbformat_minor": 2
}
