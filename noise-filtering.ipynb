{
 "cells": [
  {
   "cell_type": "code",
   "execution_count": 1,
   "metadata": {},
   "outputs": [],
   "source": [
    "import datetime\n",
    "import warnings\n",
    "import math\n",
    "\n",
    "import numpy as np\n",
    "import pandas as pd\n",
    "\n",
    "from sklearn.preprocessing import MinMaxScaler\n",
    "\n",
    "import torch\n",
    "import torch.nn as nn\n",
    "import torch.optim as optim\n",
    "from torch.utils.data import Dataset, DataLoader\n",
    "\n",
    "from denoising.autoencoder import *\n",
    "\n",
    "from utils.metrics import get_metrics\n",
    "from data_prep.yahoo_fin_api import load_df\n"
   ]
  },
  {
   "cell_type": "code",
   "execution_count": 2,
   "metadata": {},
   "outputs": [],
   "source": [
    "device = torch.device('cuda' if torch.cuda.is_available() else 'cpu')"
   ]
  },
  {
   "cell_type": "code",
   "execution_count": 3,
   "metadata": {},
   "outputs": [
    {
     "data": {
      "text/plain": [
       "<All keys matched successfully>"
      ]
     },
     "execution_count": 3,
     "metadata": {},
     "output_type": "execute_result"
    }
   ],
   "source": [
    "DATE_STR = '28022023-151344'\n",
    "CONV1_KERNEL = 51\n",
    "CONV2_KERNEL = 51\n",
    "CONV3_KERNEL = 51\n",
    "\n",
    "cnn_encoder = CnnEncoder(CONV1_KERNEL, CONV2_KERNEL, CONV3_KERNEL).to(device)\n",
    "cnn_decoder = CnnDecoder(CONV1_KERNEL, CONV2_KERNEL, CONV3_KERNEL).to(device)\n",
    "\n",
    "cnn_encoder.load_state_dict(torch.load(f'./model-dir/{DATE_STR}-cnn-encoder.pt'))\n",
    "cnn_decoder.load_state_dict(torch.load(f'./model-dir/{DATE_STR}-cnn-decoder.pt'))"
   ]
  },
  {
   "cell_type": "code",
   "execution_count": 4,
   "metadata": {},
   "outputs": [
    {
     "data": {
      "text/plain": [
       "(CnnEncoder(\n",
       "   (encoder_cnn): Sequential(\n",
       "     (0): Conv1d(1, 8, kernel_size=(51,), stride=(1,), padding=(51,))\n",
       "     (1): ReLU(inplace=True)\n",
       "     (2): Conv1d(8, 16, kernel_size=(51,), stride=(1,), padding=(51,))\n",
       "     (3): ReLU(inplace=True)\n",
       "     (4): Conv1d(16, 32, kernel_size=(51,), stride=(1,), padding=(51,))\n",
       "     (5): ReLU(inplace=True)\n",
       "     (6): Conv1d(32, 64, kernel_size=(51,), stride=(1,), padding=(51,))\n",
       "     (7): ReLU(inplace=True)\n",
       "   )\n",
       " ),\n",
       " CnnDecoder(\n",
       "   (decoder_cnn): Sequential(\n",
       "     (0): ConvTranspose1d(64, 32, kernel_size=(51,), stride=(1,), padding=(51,))\n",
       "     (1): ReLU(inplace=True)\n",
       "     (2): ConvTranspose1d(32, 16, kernel_size=(51,), stride=(1,), padding=(51,))\n",
       "     (3): ReLU(inplace=True)\n",
       "     (4): ConvTranspose1d(16, 8, kernel_size=(51,), stride=(1,), padding=(51,))\n",
       "     (5): ReLU(inplace=True)\n",
       "     (6): ConvTranspose1d(8, 1, kernel_size=(51,), stride=(1,), padding=(51,))\n",
       "   )\n",
       " ))"
      ]
     },
     "execution_count": 4,
     "metadata": {},
     "output_type": "execute_result"
    }
   ],
   "source": [
    "cnn_encoder.eval(), cnn_decoder.eval()"
   ]
  },
  {
   "cell_type": "code",
   "execution_count": 5,
   "metadata": {},
   "outputs": [],
   "source": [
    "def get_data(data_name, minmax_scaling=True):\n",
    "    df = load_df(f'data/{data_name}.csv')\n",
    "    if minmax_scaling:\n",
    "        df[df.columns] = MinMaxScaler().fit_transform(df.values)\n",
    "    data = df['Mean']\n",
    "    df = df.rename(columns={'Mean': 'True'})\n",
    "    data = torch.tensor(data, dtype=torch.float32).unsqueeze(0)\n",
    "\n",
    "    return df, data\n",
    "\n",
    "def predict(df, data):\n",
    "    output = cnn_decoder(cnn_encoder(data)).detach().cpu().numpy().squeeze()\n",
    "    df['CNNPred'] = output\n",
    "\n",
    "    return df"
   ]
  },
  {
   "cell_type": "code",
   "execution_count": 6,
   "metadata": {},
   "outputs": [],
   "source": [
    "snp_df, snp_data = get_data('snp', False)\n",
    "snp_data = snp_data.to(device)\n",
    "snp_df = predict(snp_df, snp_data)"
   ]
  },
  {
   "cell_type": "code",
   "execution_count": 7,
   "metadata": {},
   "outputs": [],
   "source": [
    "snp_df['Noise'] = snp_df['True'] - snp_df['CNNPred']"
   ]
  },
  {
   "cell_type": "code",
   "execution_count": 8,
   "metadata": {},
   "outputs": [],
   "source": [
    "snp_df.to_excel('data/snp-noise.xlsx')"
   ]
  },
  {
   "cell_type": "code",
   "execution_count": 9,
   "metadata": {},
   "outputs": [],
   "source": [
    "noise_df = pd.DataFrame(snp_df['Noise'])\n",
    "noise_df.to_excel('data/snp-noise-data.xlsx')"
   ]
  },
  {
   "cell_type": "code",
   "execution_count": 10,
   "metadata": {},
   "outputs": [
    {
     "data": {
      "text/plain": [
       "DatetimeIndex(['1990-02-26', '1990-02-27', '1990-02-28', '1990-03-01',\n",
       "               '1990-03-02', '1990-03-05', '1990-03-06', '1990-03-07',\n",
       "               '1990-03-08', '1990-03-09',\n",
       "               ...\n",
       "               '2023-02-09', '2023-02-10', '2023-02-13', '2023-02-14',\n",
       "               '2023-02-15', '2023-02-16', '2023-02-17', '2023-02-21',\n",
       "               '2023-02-22', '2023-02-23'],\n",
       "              dtype='datetime64[ns]', name='Date', length=8313, freq=None)"
      ]
     },
     "execution_count": 10,
     "metadata": {},
     "output_type": "execute_result"
    }
   ],
   "source": [
    "noise_df = pd.read_excel('data/snp-noise-data.xlsx', index_col=0)\n",
    "noise_df.index"
   ]
  }
 ],
 "metadata": {
  "kernelspec": {
   "display_name": "Python 3",
   "language": "python",
   "name": "python3"
  },
  "language_info": {
   "codemirror_mode": {
    "name": "ipython",
    "version": 3
   },
   "file_extension": ".py",
   "mimetype": "text/x-python",
   "name": "python",
   "nbconvert_exporter": "python",
   "pygments_lexer": "ipython3",
   "version": "3.10.6"
  },
  "orig_nbformat": 4
 },
 "nbformat": 4,
 "nbformat_minor": 2
}
